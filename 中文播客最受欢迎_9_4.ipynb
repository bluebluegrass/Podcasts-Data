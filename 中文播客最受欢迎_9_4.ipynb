{
  "nbformat": 4,
  "nbformat_minor": 0,
  "metadata": {
    "colab": {
      "name": "中文播客最受欢迎 9/4.ipynb",
      "provenance": [],
      "collapsed_sections": [],
      "toc_visible": true,
      "mount_file_id": "1hkEbmAePwAJGKoRwznZBnNpnbW1QkwTn",
      "authorship_tag": "ABX9TyNgcCcsrF7LGW9y9ew7eN8O",
      "include_colab_link": true
    },
    "kernelspec": {
      "display_name": "Python 3",
      "name": "python3"
    },
    "language_info": {
      "name": "python"
    }
  },
  "cells": [
    {
      "cell_type": "markdown",
      "metadata": {
        "id": "view-in-github",
        "colab_type": "text"
      },
      "source": [
        "<a href=\"https://colab.research.google.com/github/bluebluegrass/Podcasts-Data/blob/master/%E4%B8%AD%E6%96%87%E6%92%AD%E5%AE%A2%E6%9C%80%E5%8F%97%E6%AC%A2%E8%BF%8E_9_4.ipynb\" target=\"_parent\"><img src=\"https://colab.research.google.com/assets/colab-badge.svg\" alt=\"Open In Colab\"/></a>"
      ]
    },
    {
      "cell_type": "code",
      "metadata": {
        "id": "UUOVd6iCESbu"
      },
      "source": [
        "#!/usr/bin/env python\n",
        "# -*- coding: utf-8 -*-\n",
        "\n",
        "import codecs\n",
        "import copy\n",
        "import csv\n",
        "import json\n",
        "import logging\n",
        "import logging.config\n",
        "import math\n",
        "import os\n",
        "import random\n",
        "import sys\n",
        "import warnings\n",
        "from collections import OrderedDict\n",
        "from datetime import date, datetime, timedelta\n",
        "from time import sleep\n",
        "\n",
        "import requests\n",
        "from lxml import etree\n",
        "from requests.adapters import HTTPAdapter\n",
        "from tqdm import tqdm\n",
        "\n",
        "import pandas as pd\n",
        "\n",
        "\n",
        "\n"
      ],
      "execution_count": null,
      "outputs": []
    },
    {
      "cell_type": "markdown",
      "metadata": {
        "id": "ft2RfzMixFrL"
      },
      "source": [
        "# Import Data"
      ]
    },
    {
      "cell_type": "code",
      "metadata": {
        "colab": {
          "base_uri": "https://localhost:8080/"
        },
        "id": "JvWMwGgqIYUn",
        "outputId": "7cba1bcf-e2f2-4a2a-899c-3cebc98cc4f4"
      },
      "source": [
        "#import file from Google Drive\n",
        "\n",
        "file_path = 'drive/MyDrive/Most Popular Podcasts files/08232021.xlsx'\n",
        "df = pd.read_excel (file_path)\n",
        "print (df)\n"
      ],
      "execution_count": null,
      "outputs": [
        {
          "output_type": "stream",
          "name": "stdout",
          "text": [
            "                       Name  ...                                         iTunes URL\n",
            "0                     老虎工作室  ...  https://podcasts.apple.com/cn/podcast/%E8%80%8...\n",
            "1                  두시탈출 컬투쇼  ...  https://podcasts.apple.com/cn/podcast/%EB%91%9...\n",
            "2                      理财投资  ...  https://podcasts.apple.com/cn/podcast/%E7%90%8...\n",
            "3     Entrepreneurs on Fire  ...  https://podcasts.apple.com/cn/podcast/entrepre...\n",
            "4             TBS 김어준의 뉴스공장  ...  https://podcasts.apple.com/cn/podcast/tbs-%EA%...\n",
            "...                     ...  ...                                                ...\n",
            "5507           鉴谈 | 中西方文化观察  ...  https://podcasts.apple.com/cn/podcast/%E9%89%B...\n",
            "5508                   限时自躁  ...  https://podcasts.apple.com/cn/podcast/%E9%99%9...\n",
            "5509                  非主流废物  ...  https://podcasts.apple.com/cn/podcast/%E9%9D%9...\n",
            "5510                     麻雀  ...  https://podcasts.apple.com/cn/podcast/%E9%BA%B...\n",
            "5511                   齐天大圣  ...  https://podcasts.apple.com/cn/podcast/%E9%BD%9...\n",
            "\n",
            "[5512 rows x 14 columns]\n"
          ]
        }
      ]
    },
    {
      "cell_type": "code",
      "metadata": {
        "colab": {
          "base_uri": "https://localhost:8080/"
        },
        "id": "nKneUX5qIYiH",
        "outputId": "eae05756-9d7b-4799-e42e-af8cbcfc2e89"
      },
      "source": [
        "#how many podcasts\n",
        "\n",
        "len(df.index)"
      ],
      "execution_count": null,
      "outputs": [
        {
          "output_type": "execute_result",
          "data": {
            "text/plain": [
              "5512"
            ]
          },
          "metadata": {},
          "execution_count": 51
        }
      ]
    },
    {
      "cell_type": "markdown",
      "metadata": {
        "id": "bUr1SKpVbb-8"
      },
      "source": [
        "# Filter to zh shows only"
      ]
    },
    {
      "cell_type": "code",
      "metadata": {
        "colab": {
          "base_uri": "https://localhost:8080/"
        },
        "id": "Kly4uThjbfr5",
        "outputId": "62c7a4de-e42b-41a7-c4f8-587daac19c12"
      },
      "source": [
        "df['Language'].notnull()\n",
        "df_language = df.loc[df['Language'].notnull()]\n",
        "\n",
        "df_zh = df_language.loc[df_language['Language'].str.contains('^zh')].reset_index()\n",
        "len(df_zh)"
      ],
      "execution_count": null,
      "outputs": [
        {
          "output_type": "execute_result",
          "data": {
            "text/plain": [
              "4504"
            ]
          },
          "metadata": {},
          "execution_count": 52
        }
      ]
    },
    {
      "cell_type": "markdown",
      "metadata": {
        "id": "XQtr0wsBbKLu"
      },
      "source": [
        "# Basic Stats"
      ]
    },
    {
      "cell_type": "code",
      "metadata": {
        "colab": {
          "base_uri": "https://localhost:8080/",
          "height": 168
        },
        "id": "1t3peVzSbM_R",
        "outputId": "f811dd9f-14b2-46fd-ae58-a6fea72c1478"
      },
      "source": [
        "# shows with highest number of episodes\n",
        "biggest  = df_zh[df_zh['Episode Count'] == max(df_zh['Episode Count'])]\n",
        "biggest\n"
      ],
      "execution_count": null,
      "outputs": [
        {
          "output_type": "execute_result",
          "data": {
            "text/html": [
              "<div>\n",
              "<style scoped>\n",
              "    .dataframe tbody tr th:only-of-type {\n",
              "        vertical-align: middle;\n",
              "    }\n",
              "\n",
              "    .dataframe tbody tr th {\n",
              "        vertical-align: top;\n",
              "    }\n",
              "\n",
              "    .dataframe thead th {\n",
              "        text-align: right;\n",
              "    }\n",
              "</style>\n",
              "<table border=\"1\" class=\"dataframe\">\n",
              "  <thead>\n",
              "    <tr style=\"text-align: right;\">\n",
              "      <th></th>\n",
              "      <th>index</th>\n",
              "      <th>Name</th>\n",
              "      <th>Artwork</th>\n",
              "      <th>Genre IDs</th>\n",
              "      <th>Episode Count</th>\n",
              "      <th>Feed URL</th>\n",
              "      <th>Language</th>\n",
              "      <th>Explicit</th>\n",
              "      <th>Author</th>\n",
              "      <th>First Episode Date</th>\n",
              "      <th>Last Episode Date</th>\n",
              "      <th>Categories</th>\n",
              "      <th>Key Words</th>\n",
              "      <th>Description</th>\n",
              "      <th>iTunes URL</th>\n",
              "    </tr>\n",
              "  </thead>\n",
              "  <tbody>\n",
              "    <tr>\n",
              "      <th>0</th>\n",
              "      <td>0</td>\n",
              "      <td>老虎工作室</td>\n",
              "      <td>https://is2-ssl.mzstatic.com/image/thumb/Podca...</td>\n",
              "      <td>['1305', '26']</td>\n",
              "      <td>7387</td>\n",
              "      <td>http://rss.lizhi.fm/rss/231563.xml</td>\n",
              "      <td>zh-CN</td>\n",
              "      <td>0.0</td>\n",
              "      <td>老虎工作室</td>\n",
              "      <td>2014-04-23</td>\n",
              "      <td>2021-03-08</td>\n",
              "      <td>['Kids &amp; Family']</td>\n",
              "      <td>[]</td>\n",
              "      <td>人人都是主播</td>\n",
              "      <td>https://podcasts.apple.com/cn/podcast/%E8%80%8...</td>\n",
              "    </tr>\n",
              "  </tbody>\n",
              "</table>\n",
              "</div>"
            ],
            "text/plain": [
              "   index   Name  ... Description                                         iTunes URL\n",
              "0      0  老虎工作室  ...      人人都是主播  https://podcasts.apple.com/cn/podcast/%E8%80%8...\n",
              "\n",
              "[1 rows x 15 columns]"
            ]
          },
          "metadata": {},
          "execution_count": 53
        }
      ]
    },
    {
      "cell_type": "code",
      "metadata": {
        "colab": {
          "base_uri": "https://localhost:8080/",
          "height": 253
        },
        "id": "X8NFBiSHhqrB",
        "outputId": "555e5241-a1da-4abc-be40-904d2515e504"
      },
      "source": [
        "# oldest show\n",
        "oldest  = df_zh[df_zh['First Episode Date'] == min(df_zh['First Episode Date'])]\n",
        "oldest"
      ],
      "execution_count": null,
      "outputs": [
        {
          "output_type": "execute_result",
          "data": {
            "text/html": [
              "<div>\n",
              "<style scoped>\n",
              "    .dataframe tbody tr th:only-of-type {\n",
              "        vertical-align: middle;\n",
              "    }\n",
              "\n",
              "    .dataframe tbody tr th {\n",
              "        vertical-align: top;\n",
              "    }\n",
              "\n",
              "    .dataframe thead th {\n",
              "        text-align: right;\n",
              "    }\n",
              "</style>\n",
              "<table border=\"1\" class=\"dataframe\">\n",
              "  <thead>\n",
              "    <tr style=\"text-align: right;\">\n",
              "      <th></th>\n",
              "      <th>index</th>\n",
              "      <th>Name</th>\n",
              "      <th>Artwork</th>\n",
              "      <th>Genre IDs</th>\n",
              "      <th>Episode Count</th>\n",
              "      <th>Feed URL</th>\n",
              "      <th>Language</th>\n",
              "      <th>Explicit</th>\n",
              "      <th>Author</th>\n",
              "      <th>First Episode Date</th>\n",
              "      <th>Last Episode Date</th>\n",
              "      <th>Categories</th>\n",
              "      <th>Key Words</th>\n",
              "      <th>Description</th>\n",
              "      <th>iTunes URL</th>\n",
              "    </tr>\n",
              "  </thead>\n",
              "  <tbody>\n",
              "    <tr>\n",
              "      <th>151</th>\n",
              "      <td>224</td>\n",
              "      <td>都市车天下</td>\n",
              "      <td>https://is5-ssl.mzstatic.com/image/thumb/Podca...</td>\n",
              "      <td>['1503', '26', '1502']</td>\n",
              "      <td>695</td>\n",
              "      <td>http://cnrdl.cnr.cn/audio2016/ondemand/podcast...</td>\n",
              "      <td>zh-CN</td>\n",
              "      <td>0.0</td>\n",
              "      <td>NaN</td>\n",
              "      <td>1999-11-29</td>\n",
              "      <td>2017-03-29</td>\n",
              "      <td>['Automotive']</td>\n",
              "      <td>[]</td>\n",
              "      <td>《都市车天下》是一档关于汽车的资讯类节目。都市因为汽车变得更美丽，汽车让都市更具魅力，繁华都...</td>\n",
              "      <td>https://podcasts.apple.com/cn/podcast/%E9%83%B...</td>\n",
              "    </tr>\n",
              "  </tbody>\n",
              "</table>\n",
              "</div>"
            ],
            "text/plain": [
              "     index  ...                                         iTunes URL\n",
              "151    224  ...  https://podcasts.apple.com/cn/podcast/%E9%83%B...\n",
              "\n",
              "[1 rows x 15 columns]"
            ]
          },
          "metadata": {},
          "execution_count": 54
        }
      ]
    },
    {
      "cell_type": "code",
      "metadata": {
        "colab": {
          "base_uri": "https://localhost:8080/",
          "height": 253
        },
        "id": "aRKAYt9Chtbt",
        "outputId": "9f3c623b-2a7c-4706-d56e-b4c6a76c0e16"
      },
      "source": [
        "# longest running show\n",
        "date_diff = df_zh['Last Episode Date'] - df_zh['First Episode Date']\n",
        "# max(df_zh['Last Episode Date'] - df_zh['First Episode Date'])\n",
        "longest = df_zh[date_diff == max(date_diff)]\n",
        "longest"
      ],
      "execution_count": null,
      "outputs": [
        {
          "output_type": "execute_result",
          "data": {
            "text/html": [
              "<div>\n",
              "<style scoped>\n",
              "    .dataframe tbody tr th:only-of-type {\n",
              "        vertical-align: middle;\n",
              "    }\n",
              "\n",
              "    .dataframe tbody tr th {\n",
              "        vertical-align: top;\n",
              "    }\n",
              "\n",
              "    .dataframe thead th {\n",
              "        text-align: right;\n",
              "    }\n",
              "</style>\n",
              "<table border=\"1\" class=\"dataframe\">\n",
              "  <thead>\n",
              "    <tr style=\"text-align: right;\">\n",
              "      <th></th>\n",
              "      <th>index</th>\n",
              "      <th>Name</th>\n",
              "      <th>Artwork</th>\n",
              "      <th>Genre IDs</th>\n",
              "      <th>Episode Count</th>\n",
              "      <th>Feed URL</th>\n",
              "      <th>Language</th>\n",
              "      <th>Explicit</th>\n",
              "      <th>Author</th>\n",
              "      <th>First Episode Date</th>\n",
              "      <th>Last Episode Date</th>\n",
              "      <th>Categories</th>\n",
              "      <th>Key Words</th>\n",
              "      <th>Description</th>\n",
              "      <th>iTunes URL</th>\n",
              "    </tr>\n",
              "  </thead>\n",
              "  <tbody>\n",
              "    <tr>\n",
              "      <th>277</th>\n",
              "      <td>424</td>\n",
              "      <td>睡前故事-呼呼收音机</td>\n",
              "      <td>https://is4-ssl.mzstatic.com/image/thumb/Podca...</td>\n",
              "      <td>['1305', '26']</td>\n",
              "      <td>440</td>\n",
              "      <td>http://podcast.vsaker.com/podcast/rss/all.xml</td>\n",
              "      <td>zh-CN</td>\n",
              "      <td>0.0</td>\n",
              "      <td>呼呼</td>\n",
              "      <td>2003-01-12</td>\n",
              "      <td>2020-11-11</td>\n",
              "      <td>['Kids &amp; Family']</td>\n",
              "      <td>['睡前故事\\r睡前故事']</td>\n",
              "      <td>专为孩子制作极具想象力的儿童广播剧，亿万次的播放。下载“呼呼收音机APP“ 每天听，宇宙遨游...</td>\n",
              "      <td>https://podcasts.apple.com/cn/podcast/%E7%9D%A...</td>\n",
              "    </tr>\n",
              "  </tbody>\n",
              "</table>\n",
              "</div>"
            ],
            "text/plain": [
              "     index  ...                                         iTunes URL\n",
              "277    424  ...  https://podcasts.apple.com/cn/podcast/%E7%9D%A...\n",
              "\n",
              "[1 rows x 15 columns]"
            ]
          },
          "metadata": {},
          "execution_count": 55
        }
      ]
    },
    {
      "cell_type": "markdown",
      "metadata": {
        "id": "Esd_h6Zslw-l"
      },
      "source": [
        "# Cattegory"
      ]
    },
    {
      "cell_type": "code",
      "metadata": {
        "colab": {
          "base_uri": "https://localhost:8080/",
          "height": 1000
        },
        "id": "1dAc07f8JiIC",
        "outputId": "c47d61f4-0af6-4180-96a3-382e36d574de"
      },
      "source": [
        "# split category  pick the first one\n",
        "\n",
        "df_zh['main_category'] = df_zh[\"Categories\"].str.split(\",\",expand=True)[0]\n",
        "df_zh['clean_category'] = df_zh_category['main_category'].str.replace(\"[\",\"\").str.replace(\"]\",\"\")\n",
        "\n",
        "n_by_category = df_zh.groupby(df_zh['clean_category']).size().reset_index(name='counts')\n",
        "n_by_category"
      ],
      "execution_count": null,
      "outputs": [
        {
          "output_type": "execute_result",
          "data": {
            "text/html": [
              "<div>\n",
              "<style scoped>\n",
              "    .dataframe tbody tr th:only-of-type {\n",
              "        vertical-align: middle;\n",
              "    }\n",
              "\n",
              "    .dataframe tbody tr th {\n",
              "        vertical-align: top;\n",
              "    }\n",
              "\n",
              "    .dataframe thead th {\n",
              "        text-align: right;\n",
              "    }\n",
              "</style>\n",
              "<table border=\"1\" class=\"dataframe\">\n",
              "  <thead>\n",
              "    <tr style=\"text-align: right;\">\n",
              "      <th></th>\n",
              "      <th>clean_category</th>\n",
              "      <th>counts</th>\n",
              "    </tr>\n",
              "  </thead>\n",
              "  <tbody>\n",
              "    <tr>\n",
              "      <th>0</th>\n",
              "      <td></td>\n",
              "      <td>13</td>\n",
              "    </tr>\n",
              "    <tr>\n",
              "      <th>1</th>\n",
              "      <td>''</td>\n",
              "      <td>4</td>\n",
              "    </tr>\n",
              "    <tr>\n",
              "      <th>2</th>\n",
              "      <td>'Arts'</td>\n",
              "      <td>504</td>\n",
              "    </tr>\n",
              "    <tr>\n",
              "      <th>3</th>\n",
              "      <td>'Automotive'</td>\n",
              "      <td>1</td>\n",
              "    </tr>\n",
              "    <tr>\n",
              "      <th>4</th>\n",
              "      <td>'Business'</td>\n",
              "      <td>340</td>\n",
              "    </tr>\n",
              "    <tr>\n",
              "      <th>5</th>\n",
              "      <td>'Comedy '</td>\n",
              "      <td>1</td>\n",
              "    </tr>\n",
              "    <tr>\n",
              "      <th>6</th>\n",
              "      <td>'Comedy'</td>\n",
              "      <td>191</td>\n",
              "    </tr>\n",
              "    <tr>\n",
              "      <th>7</th>\n",
              "      <td>'Education'</td>\n",
              "      <td>476</td>\n",
              "    </tr>\n",
              "    <tr>\n",
              "      <th>8</th>\n",
              "      <td>'Fiction'</td>\n",
              "      <td>168</td>\n",
              "    </tr>\n",
              "    <tr>\n",
              "      <th>9</th>\n",
              "      <td>'Games &amp; Hobbies'</td>\n",
              "      <td>81</td>\n",
              "    </tr>\n",
              "    <tr>\n",
              "      <th>10</th>\n",
              "      <td>'Government &amp; Organizations'</td>\n",
              "      <td>10</td>\n",
              "    </tr>\n",
              "    <tr>\n",
              "      <th>11</th>\n",
              "      <td>'Government'</td>\n",
              "      <td>6</td>\n",
              "    </tr>\n",
              "    <tr>\n",
              "      <th>12</th>\n",
              "      <td>'Health &amp; Fitness'</td>\n",
              "      <td>138</td>\n",
              "    </tr>\n",
              "    <tr>\n",
              "      <th>13</th>\n",
              "      <td>'Health'</td>\n",
              "      <td>88</td>\n",
              "    </tr>\n",
              "    <tr>\n",
              "      <th>14</th>\n",
              "      <td>'History'</td>\n",
              "      <td>130</td>\n",
              "    </tr>\n",
              "    <tr>\n",
              "      <th>15</th>\n",
              "      <td>'Kids &amp; Family'</td>\n",
              "      <td>313</td>\n",
              "    </tr>\n",
              "    <tr>\n",
              "      <th>16</th>\n",
              "      <td>'Leisure'</td>\n",
              "      <td>240</td>\n",
              "    </tr>\n",
              "    <tr>\n",
              "      <th>17</th>\n",
              "      <td>'Mental Health'</td>\n",
              "      <td>1</td>\n",
              "    </tr>\n",
              "    <tr>\n",
              "      <th>18</th>\n",
              "      <td>'Music'</td>\n",
              "      <td>250</td>\n",
              "    </tr>\n",
              "    <tr>\n",
              "      <th>19</th>\n",
              "      <td>'Natural Sciences'</td>\n",
              "      <td>1</td>\n",
              "    </tr>\n",
              "    <tr>\n",
              "      <th>20</th>\n",
              "      <td>'News &amp; Politics'</td>\n",
              "      <td>9</td>\n",
              "    </tr>\n",
              "    <tr>\n",
              "      <th>21</th>\n",
              "      <td>'News'</td>\n",
              "      <td>35</td>\n",
              "    </tr>\n",
              "    <tr>\n",
              "      <th>22</th>\n",
              "      <td>'Places &amp; Travel'</td>\n",
              "      <td>1</td>\n",
              "    </tr>\n",
              "    <tr>\n",
              "      <th>23</th>\n",
              "      <td>'Religion &amp; Spirituality'</td>\n",
              "      <td>97</td>\n",
              "    </tr>\n",
              "    <tr>\n",
              "      <th>24</th>\n",
              "      <td>'Science &amp; Medicine'</td>\n",
              "      <td>65</td>\n",
              "    </tr>\n",
              "    <tr>\n",
              "      <th>25</th>\n",
              "      <td>'Science'</td>\n",
              "      <td>46</td>\n",
              "    </tr>\n",
              "    <tr>\n",
              "      <th>26</th>\n",
              "      <td>'Self-Help'</td>\n",
              "      <td>1</td>\n",
              "    </tr>\n",
              "    <tr>\n",
              "      <th>27</th>\n",
              "      <td>'Society &amp; Culture'</td>\n",
              "      <td>714</td>\n",
              "    </tr>\n",
              "    <tr>\n",
              "      <th>28</th>\n",
              "      <td>'Society &amp;amp; Culture'</td>\n",
              "      <td>3</td>\n",
              "    </tr>\n",
              "    <tr>\n",
              "      <th>29</th>\n",
              "      <td>'Society'</td>\n",
              "      <td>2</td>\n",
              "    </tr>\n",
              "    <tr>\n",
              "      <th>30</th>\n",
              "      <td>'Sports &amp; Recreation'</td>\n",
              "      <td>64</td>\n",
              "    </tr>\n",
              "    <tr>\n",
              "      <th>31</th>\n",
              "      <td>'Sports'</td>\n",
              "      <td>45</td>\n",
              "    </tr>\n",
              "    <tr>\n",
              "      <th>32</th>\n",
              "      <td>'TV &amp; Film'</td>\n",
              "      <td>173</td>\n",
              "    </tr>\n",
              "    <tr>\n",
              "      <th>33</th>\n",
              "      <td>'Technology'</td>\n",
              "      <td>124</td>\n",
              "    </tr>\n",
              "    <tr>\n",
              "      <th>34</th>\n",
              "      <td>'True Crime'</td>\n",
              "      <td>27</td>\n",
              "    </tr>\n",
              "    <tr>\n",
              "      <th>35</th>\n",
              "      <td>'other'</td>\n",
              "      <td>142</td>\n",
              "    </tr>\n",
              "  </tbody>\n",
              "</table>\n",
              "</div>"
            ],
            "text/plain": [
              "                  clean_category  counts\n",
              "0                                     13\n",
              "1                             ''       4\n",
              "2                         'Arts'     504\n",
              "3                   'Automotive'       1\n",
              "4                     'Business'     340\n",
              "5                      'Comedy '       1\n",
              "6                       'Comedy'     191\n",
              "7                    'Education'     476\n",
              "8                      'Fiction'     168\n",
              "9              'Games & Hobbies'      81\n",
              "10  'Government & Organizations'      10\n",
              "11                  'Government'       6\n",
              "12            'Health & Fitness'     138\n",
              "13                      'Health'      88\n",
              "14                     'History'     130\n",
              "15               'Kids & Family'     313\n",
              "16                     'Leisure'     240\n",
              "17               'Mental Health'       1\n",
              "18                       'Music'     250\n",
              "19            'Natural Sciences'       1\n",
              "20             'News & Politics'       9\n",
              "21                        'News'      35\n",
              "22             'Places & Travel'       1\n",
              "23     'Religion & Spirituality'      97\n",
              "24          'Science & Medicine'      65\n",
              "25                     'Science'      46\n",
              "26                   'Self-Help'       1\n",
              "27           'Society & Culture'     714\n",
              "28       'Society &amp; Culture'       3\n",
              "29                     'Society'       2\n",
              "30         'Sports & Recreation'      64\n",
              "31                      'Sports'      45\n",
              "32                   'TV & Film'     173\n",
              "33                  'Technology'     124\n",
              "34                  'True Crime'      27\n",
              "35                       'other'     142"
            ]
          },
          "metadata": {},
          "execution_count": 93
        }
      ]
    },
    {
      "cell_type": "code",
      "metadata": {
        "colab": {
          "base_uri": "https://localhost:8080/",
          "height": 297
        },
        "id": "QDk2YUDuB4KV",
        "outputId": "57961f52-049e-493c-d7e2-070312b1c8f8"
      },
      "source": [
        "#Society & Culture\n",
        "df_society = df_zh.loc[df_zh['clean_category'].str.contains('Society')].reset_index()\n",
        "len(df_society)\n",
        "\n",
        "df_society['month_year'] = pd.to_datetime(df_society['First Episode Date']).dt.to_period('M')\n",
        "\n",
        "df_society_plot = df_society.groupby(df_society['month_year']).size().reset_index(name='counts')\n",
        "x = 'month_year'\n",
        "y = 'counts'\n",
        "df_society_plot.plot(x=x, y=y)\n"
      ],
      "execution_count": null,
      "outputs": [
        {
          "output_type": "execute_result",
          "data": {
            "text/plain": [
              "<matplotlib.axes._subplots.AxesSubplot at 0x7f799f372810>"
            ]
          },
          "metadata": {},
          "execution_count": 102
        },
        {
          "output_type": "display_data",
          "data": {
            "image/png": "[encoded data removed]",
            "text/plain": [
              "<Figure size 432x288 with 1 Axes>"
            ]
          },
          "metadata": {
            "needs_background": "light"
          }
        }
      ]
    },
    {
      "cell_type": "code",
      "metadata": {
        "colab": {
          "base_uri": "https://localhost:8080/",
          "height": 300
        },
        "id": "ZXcvjEWb0ENI",
        "outputId": "f85c8993-e4f0-41e8-f9f9-2b85c069731f"
      },
      "source": [
        "#Education\n",
        "df_society = df_zh.loc[df_zh['clean_category'].str.contains('Education')].reset_index()\n",
        "len(df_society)\n",
        "\n",
        "df_society['month_year'] = pd.to_datetime(df_society['First Episode Date']).dt.to_period('M')\n",
        "\n",
        "df_society_plot = df_society.groupby(df_society['month_year']).size().reset_index(name='counts')\n",
        "\n",
        "x = 'month_year'\n",
        "y = 'counts'\n",
        "df_society_plot.plot(x=x, y=y)\n"
      ],
      "execution_count": null,
      "outputs": [
        {
          "output_type": "execute_result",
          "data": {
            "text/plain": [
              "<matplotlib.axes._subplots.AxesSubplot at 0x7f799a26e810>"
            ]
          },
          "metadata": {},
          "execution_count": 101
        },
        {
          "output_type": "display_data",
          "data": {
            "image/png": "[encoded data removed]",
            "text/plain": [
              "<Figure size 432x288 with 1 Axes>"
            ]
          },
          "metadata": {
            "needs_background": "light"
          }
        }
      ]
    },
    {
      "cell_type": "code",
      "metadata": {
        "colab": {
          "base_uri": "https://localhost:8080/",
          "height": 297
        },
        "id": "qMJpA3JlKCqf",
        "outputId": "791e526e-14d8-44fc-edf5-3341aab79994"
      },
      "source": [
        "#Arts\n",
        "df_society = df_zh.loc[df_zh['clean_category'].str.contains('Arts')].reset_index()\n",
        "len(df_society)\n",
        "\n",
        "df_society['month_year'] = pd.to_datetime(df_society['First Episode Date']).dt.to_period('M')\n",
        "\n",
        "df_society_plot = df_society.groupby(df_society['month_year']).size().reset_index(name='counts')\n",
        "\n",
        "x = 'month_year'\n",
        "y = 'counts'\n",
        "df_society_plot.plot(x=x, y=y)\n"
      ],
      "execution_count": null,
      "outputs": [
        {
          "output_type": "execute_result",
          "data": {
            "text/plain": [
              "<matplotlib.axes._subplots.AxesSubplot at 0x7f799a404590>"
            ]
          },
          "metadata": {},
          "execution_count": 103
        },
        {
          "output_type": "display_data",
          "data": {
            "image/png": "[encoded data removed]",
            "text/plain": [
              "<Figure size 432x288 with 1 Axes>"
            ]
          },
          "metadata": {
            "needs_background": "light"
          }
        }
      ]
    },
    {
      "cell_type": "code",
      "metadata": {
        "colab": {
          "base_uri": "https://localhost:8080/",
          "height": 297
        },
        "id": "FnMuUOIqFlvs",
        "outputId": "fec7aab1-e818-43ac-aa1d-2903a6366971"
      },
      "source": [
        "#Business \n",
        "df_society = df_zh.loc[df_zh['clean_category'].str.contains('Business')].reset_index()\n",
        "len(df_society)\n",
        "\n",
        "df_society['month_year'] = pd.to_datetime(df_society['First Episode Date']).dt.to_period('M')\n",
        "\n",
        "df_society_plot = df_society.groupby(df_society['month_year']).size().reset_index(name='counts')\n",
        "\n",
        "x = 'month_year'\n",
        "y = 'counts'\n",
        "df_society_plot.plot(x=x, y=y)"
      ],
      "execution_count": null,
      "outputs": [
        {
          "output_type": "execute_result",
          "data": {
            "text/plain": [
              "<matplotlib.axes._subplots.AxesSubplot at 0x7f799a556410>"
            ]
          },
          "metadata": {},
          "execution_count": 104
        },
        {
          "output_type": "display_data",
          "data": {
            "image/png": "[encoded data removed]",
            "text/plain": [
              "<Figure size 432x288 with 1 Axes>"
            ]
          },
          "metadata": {
            "needs_background": "light"
          }
        }
      ]
    }
  ]
}